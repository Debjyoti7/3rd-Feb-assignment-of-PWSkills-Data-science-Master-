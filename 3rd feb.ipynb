{
 "cells": [
  {
   "cell_type": "markdown",
   "id": "11f5b4b6-26b6-4467-94fe-947e4ed1344d",
   "metadata": {},
   "source": [
    "# Question 1"
   ]
  },
  {
   "cell_type": "markdown",
   "id": "25df5944-2156-47bd-a5ee-f9e566b39604",
   "metadata": {},
   "source": [
    "# Which keyword is used to create a function? Create a function to return a list of odd numbers in th range of 1 to 25."
   ]
  },
  {
   "cell_type": "markdown",
   "id": "6b9d4a46-93e2-4366-b931-52a28148e5f1",
   "metadata": {},
   "source": [
    "# 'def' is the keyword to call a function ."
   ]
  },
  {
   "cell_type": "code",
   "execution_count": 1,
   "id": "b43cc3e6-bad9-4bdb-a4db-a269f1360084",
   "metadata": {},
   "outputs": [
    {
     "name": "stdout",
     "output_type": "stream",
     "text": [
      "[1, 3, 5, 7, 9, 11, 13, 15, 17, 19, 21, 23, 25]\n"
     ]
    }
   ],
   "source": [
    "def odd_numbers():\n",
    "    odd_list = []\n",
    "    for i in range(1, 26):\n",
    "        if i % 2 != 0:\n",
    "            odd_list.append(i)\n",
    "    return odd_list\n",
    "\n",
    "print(odd_numbers())\n",
    "\n"
   ]
  },
  {
   "cell_type": "markdown",
   "id": "af98ed1e-37f7-4400-9d59-60cce4f4fa9a",
   "metadata": {},
   "source": [
    "# Question 2"
   ]
  },
  {
   "cell_type": "markdown",
   "id": "10bcec71-62a2-4a49-951b-8f7358aaf770",
   "metadata": {},
   "source": [
    "# Why *args and **kwargs is used in some functions? Create a function each for *args and **kwargs to demonstrate their use."
   ]
  },
  {
   "cell_type": "markdown",
   "id": "faff5484-f3bd-4aa2-a356-7141cd087513",
   "metadata": {},
   "source": [
    "# The *args and **kwargs syntax in Python is used to pass a variable number of arguments to a function.*args is used to pass a variable number of non-keyword (i.e., positional) arguments to a function. The * syntax allows us to pass any number of positional arguments, which are collected into a tuple inside the function. **kwargs is used to pass a variable number of keyword arguments to a function. The ** syntax allows us to pass any number of keyword arguments, which are collected into a dictionary inside the function. Using *args and **kwargs makes a function more flexible and reusable, as it allows the caller to pass any number of arguments, regardless of the number of parameters that the function was defined with. This can be especially useful when writing generic functions that can handle a variety of different inputs. For example, consider a function that takes two arguments, a and b, but sometimes you want to call it with more arguments. You can use *args to pass any additional positional arguments, and **kwargs to pass any additional keyword arguments:"
   ]
  },
  {
   "cell_type": "code",
   "execution_count": 41,
   "id": "20ea656a-2d33-491a-9d77-4f6dcec8392b",
   "metadata": {},
   "outputs": [
    {
     "name": "stdout",
     "output_type": "stream",
     "text": [
      "The arguments passed to the function are:\n",
      "1\n",
      "2\n",
      "3\n",
      "4\n",
      "5\n"
     ]
    }
   ],
   "source": [
    "def print_args(*args):\n",
    "    print(\"The arguments passed to the function are:\")\n",
    "    for arg in args:\n",
    "        print(arg)\n",
    "\n",
    "print_args(1, 2, 3, 4, 5)\n"
   ]
  },
  {
   "cell_type": "code",
   "execution_count": 42,
   "id": "953c9194-dcda-4bec-af51-2995e2605587",
   "metadata": {},
   "outputs": [
    {
     "name": "stdout",
     "output_type": "stream",
     "text": [
      "The keyword arguments passed to the function are:\n",
      "first_name: John\n",
      "last_name: Doe\n",
      "age: 30\n"
     ]
    }
   ],
   "source": [
    "def print_kwargs(**kwargs):\n",
    "    print(\"The keyword arguments passed to the function are:\")\n",
    "    for key, value in kwargs.items():\n",
    "        print(f\"{key}: {value}\")\n",
    "\n",
    "print_kwargs(first_name=\"John\", last_name=\"Doe\", age=30)\n"
   ]
  },
  {
   "cell_type": "markdown",
   "id": "51cba536-a86f-449f-9bb8-4a68f768d09e",
   "metadata": {},
   "source": [
    "# Q3. What is an iterator in python? Name the method used to initialise the iterator object and the method used for iteration. Use these methods to print the first five elements of the given list [2, 4, 6, 8, 10, 12, 14, 16, 18, 20]."
   ]
  },
  {
   "cell_type": "markdown",
   "id": "e8823c12-c1a8-4887-aea3-9a334b021852",
   "metadata": {},
   "source": [
    "# Repetitive execution of the same block of code over and over is referred to as iteration. There are two types of iteration: Definite iteration, in which the number of repetitions is specified explicitly in advance. Indefinite iteration, in which the code block executes until some condition is met."
   ]
  },
  {
   "cell_type": "markdown",
   "id": "7b99e841-c080-488e-a441-860e8e1d0379",
   "metadata": {},
   "source": [
    "# for loop and while loop are used for initilaization "
   ]
  },
  {
   "cell_type": "code",
   "execution_count": 15,
   "id": "78513422-4079-48eb-9590-948e32aeed41",
   "metadata": {},
   "outputs": [],
   "source": [
    "a = [2,3,6,8,10,12,14,16,18,20]"
   ]
  },
  {
   "cell_type": "code",
   "execution_count": 17,
   "id": "14523c19-0ef3-4220-b028-58c93f82c126",
   "metadata": {},
   "outputs": [
    {
     "data": {
      "text/plain": [
       "[2, 3, 6, 8, 10]"
      ]
     },
     "execution_count": 17,
     "metadata": {},
     "output_type": "execute_result"
    }
   ],
   "source": [
    "a [0:5]"
   ]
  },
  {
   "cell_type": "markdown",
   "id": "aac19808-2538-4877-8246-7499604a266a",
   "metadata": {},
   "source": [
    "# Q4. What is a generator function in python? Why yield keyword is used? Give an example of a generator function."
   ]
  },
  {
   "cell_type": "markdown",
   "id": "09f011e1-1a72-4378-a6a4-569016a7783e",
   "metadata": {},
   "source": [
    "# Python Generator functions allow you to declare a function that behaves likes an iterator, allowing programmers to make an iterator in a fast, easy, and clean way. An iterator is an object that can be iterated or looped upon."
   ]
  },
  {
   "cell_type": "markdown",
   "id": "e36d10c0-4cae-4a8b-9ab5-0242b160b191",
   "metadata": {},
   "source": [
    "# The yield keyword in Python controls the flow of a generator function. This is similar to a return statement used for returning values in Python."
   ]
  },
  {
   "cell_type": "code",
   "execution_count": 18,
   "id": "69106fc1-ed5a-463d-8865-c4479a03cf45",
   "metadata": {},
   "outputs": [],
   "source": [
    "fibonacci = [0,1,2,3,5,8,13,21,34]"
   ]
  },
  {
   "cell_type": "code",
   "execution_count": 19,
   "id": "44f2412d-079b-409a-9690-043c35e4633f",
   "metadata": {},
   "outputs": [],
   "source": [
    "def test_fib(n):\n",
    "    a,b,=0,1\n",
    "    for i in range(n):\n",
    "        yield a\n",
    "        a,b = b,a+b"
   ]
  },
  {
   "cell_type": "code",
   "execution_count": 23,
   "id": "cdbf2d89-e851-4b5a-89d1-909511933db5",
   "metadata": {},
   "outputs": [
    {
     "name": "stdout",
     "output_type": "stream",
     "text": [
      "0\n",
      "1\n",
      "1\n",
      "2\n",
      "3\n",
      "5\n",
      "8\n",
      "13\n",
      "21\n",
      "34\n",
      "55\n",
      "89\n",
      "144\n",
      "233\n",
      "377\n"
     ]
    }
   ],
   "source": [
    "for i in test_fib(15):\n",
    "    print(i)"
   ]
  },
  {
   "cell_type": "markdown",
   "id": "813fdfd3-707c-4b0c-9073-7c9b58712fcd",
   "metadata": {},
   "source": [
    "# Q5. Create a generator function for prime numbers less than 1000. Use the next() method to print the first 20 prime numbers."
   ]
  },
  {
   "cell_type": "code",
   "execution_count": 37,
   "id": "4aee37c4-9b8f-433a-b3fc-ee7c06d790e9",
   "metadata": {},
   "outputs": [
    {
     "name": "stdout",
     "output_type": "stream",
     "text": [
      "2\n",
      "3\n",
      "5\n",
      "7\n",
      "11\n",
      "13\n",
      "17\n",
      "19\n",
      "23\n",
      "29\n",
      "31\n",
      "37\n",
      "41\n",
      "43\n",
      "47\n",
      "53\n",
      "59\n",
      "61\n",
      "67\n",
      "71\n",
      "73\n",
      "79\n",
      "83\n",
      "89\n",
      "97\n",
      "101\n",
      "103\n",
      "107\n",
      "109\n",
      "113\n",
      "127\n",
      "131\n",
      "137\n",
      "139\n",
      "149\n",
      "151\n",
      "157\n",
      "163\n",
      "167\n",
      "173\n",
      "179\n",
      "181\n",
      "191\n",
      "193\n",
      "197\n",
      "199\n",
      "211\n",
      "223\n",
      "227\n",
      "229\n",
      "233\n",
      "239\n",
      "241\n",
      "251\n",
      "257\n",
      "263\n",
      "269\n",
      "271\n",
      "277\n",
      "281\n",
      "283\n",
      "293\n",
      "307\n",
      "311\n",
      "313\n",
      "317\n",
      "331\n",
      "337\n",
      "347\n",
      "349\n",
      "353\n",
      "359\n",
      "367\n",
      "373\n",
      "379\n",
      "383\n",
      "389\n",
      "397\n",
      "401\n",
      "409\n",
      "419\n",
      "421\n",
      "431\n",
      "433\n",
      "439\n",
      "443\n",
      "449\n",
      "457\n",
      "461\n",
      "463\n",
      "467\n",
      "479\n",
      "487\n",
      "491\n",
      "499\n",
      "503\n",
      "509\n",
      "521\n",
      "523\n",
      "541\n",
      "547\n",
      "557\n",
      "563\n",
      "569\n",
      "571\n",
      "577\n",
      "587\n",
      "593\n",
      "599\n",
      "601\n",
      "607\n",
      "613\n",
      "617\n",
      "619\n",
      "631\n",
      "641\n",
      "643\n",
      "647\n",
      "653\n",
      "659\n",
      "661\n",
      "673\n",
      "677\n",
      "683\n",
      "691\n",
      "701\n",
      "709\n",
      "719\n",
      "727\n",
      "733\n",
      "739\n",
      "743\n",
      "751\n",
      "757\n",
      "761\n",
      "769\n",
      "773\n",
      "787\n",
      "797\n",
      "809\n",
      "811\n",
      "821\n",
      "823\n",
      "827\n",
      "829\n",
      "839\n",
      "853\n",
      "857\n",
      "859\n",
      "863\n",
      "877\n",
      "881\n",
      "883\n",
      "887\n",
      "907\n",
      "911\n",
      "919\n",
      "929\n",
      "937\n",
      "941\n",
      "947\n",
      "953\n",
      "967\n",
      "971\n",
      "977\n",
      "983\n",
      "991\n",
      "997\n"
     ]
    }
   ],
   "source": [
    "prime_gen = prime_numbers()\n",
    "for prime in prime_gen:\n",
    "    print(prime)\n"
   ]
  },
  {
   "cell_type": "code",
   "execution_count": 4,
   "id": "8dddeb4f-ab5f-4e1a-8b93-3105c2c7b5f0",
   "metadata": {},
   "outputs": [
    {
     "name": "stdout",
     "output_type": "stream",
     "text": [
      "2\n",
      "3\n",
      "5\n",
      "7\n",
      "11\n",
      "13\n",
      "17\n",
      "19\n",
      "23\n",
      "29\n",
      "31\n",
      "37\n",
      "41\n",
      "43\n",
      "47\n",
      "53\n",
      "59\n",
      "61\n",
      "67\n",
      "71\n"
     ]
    }
   ],
   "source": [
    "prime_gen = prime_numbers()\n",
    "for i in range(20):\n",
    "    print(next(prime_gen))"
   ]
  },
  {
   "cell_type": "code",
   "execution_count": null,
   "id": "f94fc722-96a6-4e79-90df-3b9c642624b4",
   "metadata": {},
   "outputs": [],
   "source": []
  }
 ],
 "metadata": {
  "kernelspec": {
   "display_name": "Python 3 (ipykernel)",
   "language": "python",
   "name": "python3"
  },
  "language_info": {
   "codemirror_mode": {
    "name": "ipython",
    "version": 3
   },
   "file_extension": ".py",
   "mimetype": "text/x-python",
   "name": "python",
   "nbconvert_exporter": "python",
   "pygments_lexer": "ipython3",
   "version": "3.10.8"
  }
 },
 "nbformat": 4,
 "nbformat_minor": 5
}
